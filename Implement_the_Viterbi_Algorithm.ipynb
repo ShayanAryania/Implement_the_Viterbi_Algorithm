{
 "cells": [
  {
   "cell_type": "code",
   "execution_count": 1,
   "metadata": {},
   "outputs": [],
   "source": [
    "def backtrack(V, BT, S):\n",
    "    res = []\n",
    "    inverseS = dict((v, k) for k, v in S.items())\n",
    "    stateIndex = max(range(len(S)), key=lambda l: V[l][-1])\n",
    "    for i in range(len(V[0]) - 1, -1, -1):\n",
    "        res.append(inverseS[stateIndex])\n",
    "        stateIndex = BT[stateIndex][i]\n",
    "    return res[::-1]"
   ]
  },
  {
   "cell_type": "code",
   "execution_count": 2,
   "metadata": {},
   "outputs": [],
   "source": [
    "def generate_mapping(inFile):\n",
    "    return dict((state, i) for i, state in enumerate(inFile.readline().split()))"
   ]
  },
  {
   "cell_type": "code",
   "execution_count": 3,
   "metadata": {},
   "outputs": [],
   "source": [
    "def decode(X, Z, S, A, E):\n",
    "    V = [[0] * len(X) for _ in range(len(S))]\n",
    "    BT = [[0] * len(X) for _ in range(len(S))]\n",
    "    for k in range(len(S)):\n",
    "        V[k][0] = 1.0 / len(S) * E[k][Z[X[0]]]\n",
    "    for i in range(len(X) - 1):\n",
    "        for k in range(len(S)):\n",
    "            V[k][i+1] = E[k][Z[X[i+1]]] * max(V[l][i] * A[l][k] for l in range(len(S)))\n",
    "            BT[k][i+1] = max(range(len(S)), key=lambda l: V[l][i] * A[l][k])\n",
    "    return backtrack(V, BT, S)"
   ]
  },
  {
   "cell_type": "code",
   "execution_count": 4,
   "metadata": {},
   "outputs": [],
   "source": [
    "def parse_emission_matrix(inFile):\n",
    "    inFile.readline()\n",
    "    E = [list(map(float, line.split()[1:])) for line in inFile.readlines()]\n",
    "    return E"
   ]
  },
  {
   "cell_type": "code",
   "execution_count": 5,
   "metadata": {},
   "outputs": [],
   "source": [
    "def parse_transition_matrix(inFile):\n",
    "    states = inFile.readline().split()\n",
    "    transitionMatrix = [list(map(float, inFile.readline().split()[1:])) for _ in range(len(states))]\n",
    "    return transitionMatrix\n"
   ]
  },
  {
   "cell_type": "code",
   "execution_count": 7,
   "metadata": {},
   "outputs": [
    {
     "name": "stdout",
     "output_type": "stream",
     "text": [
      "DDBAACDDBACCCCDBACDBACAACDBACABACACACDBACCDBAAACDBACACACCCACCCCCCCACCDDBDBACCDBACCCCCCDBACAAABDBAACC\n"
     ]
    }
   ],
   "source": [
    "with open('/Users/shayanaryania/Desktop/University/Rosalind/Implement_the_Viterbi_Algorithm/rosalind_ba10c.txt', 'r') as file : \n",
    "    X = file.readline().strip()\n",
    "    file.readline()\n",
    "    Z = generate_mapping(file)\n",
    "    file.readline()\n",
    "    S = generate_mapping(file)\n",
    "    file.readline()\n",
    "    A = parse_transition_matrix(file)\n",
    "    file.readline()\n",
    "    E = parse_emission_matrix(file)\n",
    "\n",
    "print(''.join(decode(X, Z, S, A, E)))"
   ]
  },
  {
   "cell_type": "code",
   "execution_count": null,
   "metadata": {},
   "outputs": [],
   "source": []
  }
 ],
 "metadata": {
  "kernelspec": {
   "display_name": "Python 3",
   "language": "python",
   "name": "python3"
  },
  "language_info": {
   "codemirror_mode": {
    "name": "ipython",
    "version": 3
   },
   "file_extension": ".py",
   "mimetype": "text/x-python",
   "name": "python",
   "nbconvert_exporter": "python",
   "pygments_lexer": "ipython3",
   "version": "3.11.4"
  }
 },
 "nbformat": 4,
 "nbformat_minor": 2
}
